{
 "cells": [
  {
   "cell_type": "markdown",
   "metadata": {},
   "source": [
    "## Scrape Zillow Housing Data\n",
    "- Get all the housing information for renting location around UCSD, i.e. in La Jolla \n",
    "\n",
    "Part 1: From General Overall Page\n",
    "- bs4 + request\n",
    "- Data Features: \n",
    "    1. Price\n",
    "    2. Address\n",
    "    3. beds, baths, sqft \n",
    "\n",
    "Part 2: From Individual Listing Page  \n",
    "- Features: \n",
    "    1. More Info: Pets, Amenities, etc\n",
    "    2. Rent ZEstimate History (User Table View)"
   ]
  },
  {
   "cell_type": "markdown",
   "metadata": {},
   "source": [
    "### Part 1"
   ]
  },
  {
   "cell_type": "code",
   "execution_count": 53,
   "metadata": {},
   "outputs": [],
   "source": [
    "import requests \n",
    "from bs4 import BeautifulSoup as soup"
   ]
  },
  {
   "cell_type": "code",
   "execution_count": 55,
   "metadata": {},
   "outputs": [],
   "source": [
    "# sample url for La Jolla renting list\n",
    "url = \"https://www.zillow.com/la-jolla-san-diego-ca/rentals\" # url refers to the location "
   ]
  },
  {
   "cell_type": "code",
   "execution_count": 56,
   "metadata": {},
   "outputs": [],
   "source": [
    "# taken header from browser http request\n",
    "header = {'user-agent': 'Mozilla/5.0 (Macintosh; Intel Mac OS X 10_15_7) AppleWebKit/537.36 (KHTML, like Gecko) Chrome/95.0.4638.69 Safari/537.36 Edg/95.0.1020.53',\n",
    "    'refer': url} "
   ]
  },
  {
   "cell_type": "code",
   "execution_count": 57,
   "metadata": {},
   "outputs": [
    {
     "name": "stdout",
     "output_type": "stream",
     "text": [
      "200\n"
     ]
    }
   ],
   "source": [
    "# get the website \n",
    "html = requests.get(url, headers=header) # don't to run it too much!!!\n",
    "print(html.status_code)"
   ]
  },
  {
   "cell_type": "code",
   "execution_count": 58,
   "metadata": {},
   "outputs": [],
   "source": [
    "# save it for later experiment\n",
    "import os\n",
    "if os.path.exists('zillow_la_jolla.txt'): os.remove('zillow_la_jolla.txt')\n",
    "with open('zillow_la_jolla.txt', 'w') as file:\n",
    "    file.write(html.text)"
   ]
  },
  {
   "cell_type": "code",
   "execution_count": 59,
   "metadata": {},
   "outputs": [],
   "source": [
    "# function to read HTML file back to string and parse it using bs4\n",
    "def parse_file(fp):\n",
    "    with open(fp, mode='r') as file:\n",
    "        html_txt = file.readlines()\n",
    "    return soup(''.join(html_txt), 'html.parser')\n",
    "html_txt = parse_file('zillow_la_jolla.txt')"
   ]
  },
  {
   "cell_type": "code",
   "execution_count": 60,
   "metadata": {},
   "outputs": [
    {
     "name": "stdout",
     "output_type": "stream",
     "text": [
      "Reach the End\n",
      "Reach the End\n",
      "Reach the End\n",
      "Reach the End\n",
      "Reach the End\n",
      "Reach the End\n",
      "Reach the End\n",
      "Reach the End\n",
      "Reach the End\n",
      "Reach the End\n",
      "Reach the End\n",
      "Reach the End\n",
      "Reach the End\n",
      "Reach the End\n",
      "Reach the End\n",
      "Reach the End\n",
      "Reach the End\n",
      "Reach the End\n",
      "Reach the End\n",
      "Reach the End\n",
      "This is the end of the page\n"
     ]
    }
   ],
   "source": [
    "# extract price, and detail info about the house\n",
    "import re\n",
    "\n",
    "info=[]\n",
    "for house in html_txt.findAll('div', {'class':'list-card-heading'}):\n",
    "    if len(house.text)==0: # if there is nothing (usually happens at the end)\n",
    "        print('This is the end of the page')\n",
    "        continue \n",
    "    ins={}\n",
    "    price=house.find('div', {'class': 'list-card-price'}).text\n",
    "    detail=house.find('ul', {'class': 'list-card-details'}).text\n",
    "    pattern=r\"([1-9] bd)[s]*([1-9] ba)([0-9,\\-]+ sqft)-(.*)\"\n",
    "    match=re.match(pattern, detail)\n",
    "    for index, cat in enumerate(['bds','ba','sqft','house-type']): \n",
    "        if match!=None: \n",
    "            ins[cat]=match.group(index+1)\n",
    "        else:\n",
    "            print(\"Reach the End\")\n",
    "    info.append(ins)"
   ]
  },
  {
   "cell_type": "code",
   "execution_count": 61,
   "metadata": {},
   "outputs": [
    {
     "data": {
      "text/plain": [
       "[('/b/solazzo-apartments-homes-la-jolla-ca-5Xk5YK/',\n",
       "  'Solazzo Apartments Homes | 8506 Villa La Jolla Dr, La Jolla, CA'),\n",
       " ('/b/ocean-house-on-prospect-apartment-homes-la-jolla-ca-5Xkm98/',\n",
       "  'Ocean House on Prospect Apartment Homes | 400 Prospect St, La Jolla, CA'),\n",
       " ('https://www.zillow.com/homedetails/8446-Via-Sonoma-UNIT-94-La-Jolla-CA-92037/16840698_zpid/',\n",
       "  '8446 Via Sonoma UNIT 94, La Jolla, CA 92037'),\n",
       " ('https://www.zillow.com/homedetails/8524-Via-Mallorca-La-Jolla-Ca-Office-1-BEDROOM-La-Jolla-CA-92037/2067481695_zpid/',\n",
       "  '8524 Via Mallorca La Jolla Ca Office #1-BEDROOM, La Jolla, CA 92037'),\n",
       " ('https://www.zillow.com/homedetails/3161-Morning-Way-La-Jolla-CA-92037/16835830_zpid/',\n",
       "  '3161 Morning Way, La Jolla, CA 92037'),\n",
       " ('https://www.zillow.com/homedetails/356-Playa-Del-Norte-St-La-Jolla-CA-92037/2069746535_zpid/',\n",
       "  '356 Playa Del Norte St, La Jolla, CA 92037'),\n",
       " ('https://www.zillow.com/homedetails/1804-Caminito-Ascua-La-Jolla-CA-92037/16857254_zpid/',\n",
       "  '1804 Caminito Ascua, La Jolla, CA 92037'),\n",
       " ('https://www.zillow.com/homedetails/8529-Villa-La-Jolla-Dr-APT-E-La-Jolla-CA-92037/2078414087_zpid/',\n",
       "  '8529 Villa La Jolla Dr APT E, La Jolla, CA 92037'),\n",
       " ('https://www.zillow.com/homedetails/3205-Via-Alicante-La-Jolla-CA-92037/2078716356_zpid/',\n",
       "  '3205 Via Alicante, La Jolla, CA 92037')]"
      ]
     },
     "execution_count": 61,
     "metadata": {},
     "output_type": "execute_result"
    }
   ],
   "source": [
    "# extract the address of the house \n",
    "link_addr = [] # format: (link, addr)\n",
    "for addr in html_txt.findAll('div', {'class': 'list-card-info'}): \n",
    "    ad=addr.find('address', {'class': 'list-card-addr'})\n",
    "    link=addr.find('a', {'class': 'list-card-link'})\n",
    "    if ad and link: \n",
    "        link_addr.append((link.get('href'), ad.text))\n",
    "link_addr"
   ]
  },
  {
   "cell_type": "code",
   "execution_count": 9,
   "metadata": {},
   "outputs": [
    {
     "data": {
      "text/plain": [
       "(9, 9)"
      ]
     },
     "execution_count": 9,
     "metadata": {},
     "output_type": "execute_result"
    }
   ],
   "source": [
    "len(info), len(link_addr)"
   ]
  },
  {
   "cell_type": "code",
   "execution_count": 10,
   "metadata": {},
   "outputs": [],
   "source": [
    "# store data in a dataframe \n",
    "import pandas as pd \n",
    "import numpy as np\n",
    "combined = []\n",
    "for i,j in zip(info, link_addr): \n",
    "    if len(i)==0 or len(j)==0: \n",
    "        continue\n",
    "    i.update(dict(zip(['link', 'address'], j)))\n",
    "    combined.append(i)"
   ]
  },
  {
   "cell_type": "code",
   "execution_count": 11,
   "metadata": {},
   "outputs": [
    {
     "data": {
      "text/html": [
       "<div>\n",
       "<style scoped>\n",
       "    .dataframe tbody tr th:only-of-type {\n",
       "        vertical-align: middle;\n",
       "    }\n",
       "\n",
       "    .dataframe tbody tr th {\n",
       "        vertical-align: top;\n",
       "    }\n",
       "\n",
       "    .dataframe thead th {\n",
       "        text-align: right;\n",
       "    }\n",
       "</style>\n",
       "<table border=\"1\" class=\"dataframe\">\n",
       "  <thead>\n",
       "    <tr style=\"text-align: right;\">\n",
       "      <th></th>\n",
       "      <th>bds</th>\n",
       "      <th>ba</th>\n",
       "      <th>sqft</th>\n",
       "      <th>house-type</th>\n",
       "      <th>link</th>\n",
       "      <th>address</th>\n",
       "    </tr>\n",
       "  </thead>\n",
       "  <tbody>\n",
       "    <tr>\n",
       "      <th>0</th>\n",
       "      <td>3</td>\n",
       "      <td>3</td>\n",
       "      <td>1992</td>\n",
       "      <td>Coming soon</td>\n",
       "      <td>https://www.zillow.com/homedetails/8619-Via-Ma...</td>\n",
       "      <td>8619 Via Mallorca UNIT C, La Jolla, CA 92037</td>\n",
       "    </tr>\n",
       "    <tr>\n",
       "      <th>1</th>\n",
       "      <td>4</td>\n",
       "      <td>3</td>\n",
       "      <td>2206</td>\n",
       "      <td>Coming soon</td>\n",
       "      <td>https://www.zillow.com/homedetails/8845-Robin-...</td>\n",
       "      <td>8845 Robin Hood Ln, La Jolla, CA 92037</td>\n",
       "    </tr>\n",
       "    <tr>\n",
       "      <th>2</th>\n",
       "      <td>5</td>\n",
       "      <td>3</td>\n",
       "      <td>2772</td>\n",
       "      <td>House for sale</td>\n",
       "      <td>https://www.zillow.com/homedetails/8269-Sugarm...</td>\n",
       "      <td>8269 Sugarman Dr, La Jolla, CA 92037</td>\n",
       "    </tr>\n",
       "    <tr>\n",
       "      <th>3</th>\n",
       "      <td>3</td>\n",
       "      <td>3</td>\n",
       "      <td>1799</td>\n",
       "      <td>House for sale</td>\n",
       "      <td>https://www.zillow.com/homedetails/253-Rosemon...</td>\n",
       "      <td>253 Rosemont St, La Jolla, CA 92037</td>\n",
       "    </tr>\n",
       "    <tr>\n",
       "      <th>4</th>\n",
       "      <td>4</td>\n",
       "      <td>3</td>\n",
       "      <td>1861</td>\n",
       "      <td>Multi-family home for sale</td>\n",
       "      <td>https://www.zillow.com/homedetails/7256-7258-L...</td>\n",
       "      <td>7256-7258 La Jolla Blvd, La Jolla, CA 92037</td>\n",
       "    </tr>\n",
       "    <tr>\n",
       "      <th>5</th>\n",
       "      <td>3</td>\n",
       "      <td>3</td>\n",
       "      <td>2284</td>\n",
       "      <td>House for sale</td>\n",
       "      <td>https://www.zillow.com/homedetails/5646-Chelse...</td>\n",
       "      <td>5646 Chelsea Ave, La Jolla, CA 92037</td>\n",
       "    </tr>\n",
       "    <tr>\n",
       "      <th>6</th>\n",
       "      <td>2</td>\n",
       "      <td>2</td>\n",
       "      <td>992</td>\n",
       "      <td>Condo for sale</td>\n",
       "      <td>https://www.zillow.com/homedetails/457-Coast-B...</td>\n",
       "      <td>457 Coast Blvd UNIT 403, La Jolla, CA 92037</td>\n",
       "    </tr>\n",
       "    <tr>\n",
       "      <th>7</th>\n",
       "      <td>1</td>\n",
       "      <td>1</td>\n",
       "      <td>668</td>\n",
       "      <td>Condo for sale</td>\n",
       "      <td>https://www.zillow.com/homedetails/860-Turquoi...</td>\n",
       "      <td>860 Turquoise St UNIT 224, San Diego, CA 92109</td>\n",
       "    </tr>\n",
       "  </tbody>\n",
       "</table>\n",
       "</div>"
      ],
      "text/plain": [
       "  bds  ba   sqft                   house-type  \\\n",
       "0  3   3   1992                   Coming soon   \n",
       "1  4   3   2206                   Coming soon   \n",
       "2  5   3   2772                House for sale   \n",
       "3  3   3   1799                House for sale   \n",
       "4  4   3   1861    Multi-family home for sale   \n",
       "5  3   3   2284                House for sale   \n",
       "6  2   2    992                Condo for sale   \n",
       "7  1   1    668                Condo for sale   \n",
       "\n",
       "                                                link  \\\n",
       "0  https://www.zillow.com/homedetails/8619-Via-Ma...   \n",
       "1  https://www.zillow.com/homedetails/8845-Robin-...   \n",
       "2  https://www.zillow.com/homedetails/8269-Sugarm...   \n",
       "3  https://www.zillow.com/homedetails/253-Rosemon...   \n",
       "4  https://www.zillow.com/homedetails/7256-7258-L...   \n",
       "5  https://www.zillow.com/homedetails/5646-Chelse...   \n",
       "6  https://www.zillow.com/homedetails/457-Coast-B...   \n",
       "7  https://www.zillow.com/homedetails/860-Turquoi...   \n",
       "\n",
       "                                          address  \n",
       "0    8619 Via Mallorca UNIT C, La Jolla, CA 92037  \n",
       "1          8845 Robin Hood Ln, La Jolla, CA 92037  \n",
       "2            8269 Sugarman Dr, La Jolla, CA 92037  \n",
       "3             253 Rosemont St, La Jolla, CA 92037  \n",
       "4     7256-7258 La Jolla Blvd, La Jolla, CA 92037  \n",
       "5            5646 Chelsea Ave, La Jolla, CA 92037  \n",
       "6     457 Coast Blvd UNIT 403, La Jolla, CA 92037  \n",
       "7  860 Turquoise St UNIT 224, San Diego, CA 92109  "
      ]
     },
     "execution_count": 11,
     "metadata": {},
     "output_type": "execute_result"
    }
   ],
   "source": [
    "df = pd.DataFrame(combined)\n",
    "# remove unit\n",
    "df['bds'] = df['bds'].str.replace('[bd,]', '', regex=True)\n",
    "df['ba'] = df['ba'].str.replace('[ba,]', '', regex=True)\n",
    "df['sqft'] = df['sqft'].str.replace('[sqft,\\-]', '', regex=True)\n",
    "df = df.replace(' ', 0) # should prob leave it as nan\n",
    "df.astype({'bds': 'int32',\n",
    "            'ba': 'int32', \n",
    "            'sqft': 'int32'})\n",
    "df"
   ]
  },
  {
   "cell_type": "code",
   "execution_count": 39,
   "metadata": {},
   "outputs": [],
   "source": [
    "# TODO: Automate multipage scraping \n",
    "# TODO: Increase search range to include more housing \n",
    "# TODO: Filter the rent data"
   ]
  },
  {
   "cell_type": "code",
   "execution_count": 66,
   "metadata": {},
   "outputs": [],
   "source": [
    "# Using Dataox's approach \n",
    "import numpy as np \n",
    "import pandas as pd \n",
    "import re \n",
    "import lxml \n",
    "from lxml.html.soupparser import fromstring\n",
    "import numbers \n",
    "import requests \n",
    "from bs4 import BeautifulSoup as soup"
   ]
  },
  {
   "cell_type": "code",
   "execution_count": 67,
   "metadata": {},
   "outputs": [],
   "source": [
    "request_headers = {\n",
    "    'accept': 'text/html,application/xhtml+xml,application/xml;q=0.9,image/webq,image/apng,*/*;1=0.8', \n",
    "    'accept-encoding': 'gzip, deflate, br',\n",
    "    'accept-language': 'en-US,en;q=0.8',\n",
    "    'upgrade-insecure-requests': '1', \n",
    "    'user-agent': 'Mozilla/5.0 (Macintosh; Intel Mac OS X 10_15_7) AppleWebKit/537.36 (KHTML, like Gecko) Chrome/95.0.4638.69 Safari/537.36 Edg/95.0.1020.53',\n",
    "}\n",
    "\n",
    "url = 'https://www.zillow.com/la-jolla-san-diego-ca/rentals'\n",
    "with requests.Session() as session: \n",
    "    response = session.get(url, headers=request_headers)"
   ]
  },
  {
   "cell_type": "code",
   "execution_count": 71,
   "metadata": {},
   "outputs": [],
   "source": [
    "soup = soup(response.content, 'html.parser')"
   ]
  },
  {
   "cell_type": "code",
   "execution_count": 78,
   "metadata": {},
   "outputs": [
    {
     "name": "stdout",
     "output_type": "stream",
     "text": [
      "[<address class=\"list-card-addr\">Solazzo Apartments Homes | 8506 Villa La Jolla Dr, La Jolla, CA</address>, <address class=\"list-card-addr\">2420 Torrey Pines Rd UNIT B303, La Jolla, CA 92037</address>, <address class=\"list-card-addr\">Ocean House on Prospect Apartment Homes | 400 Prospect St, La Jolla, CA</address>, <address class=\"list-card-addr\">8446 Via Sonoma UNIT 94, La Jolla, CA 92037</address>, <address class=\"list-card-addr\">3161 Morning Way, La Jolla, CA 92037</address>, <address class=\"list-card-addr\">356 Playa Del Norte St, La Jolla, CA 92037</address>, <address class=\"list-card-addr\">1804 Caminito Ascua, La Jolla, CA 92037</address>, <address class=\"list-card-addr\">8529 Villa La Jolla Dr APT E, La Jolla, CA 92037</address>, <address class=\"list-card-addr\">3205 Via Alicante, La Jolla, CA 92037</address>]\n",
      "[<address class=\"list-card-addr\">Solazzo Apartments Homes | 8506 Villa La Jolla Dr, La Jolla, CA</address>, <address class=\"list-card-addr\">2420 Torrey Pines Rd UNIT B303, La Jolla, CA 92037</address>, <address class=\"list-card-addr\">Ocean House on Prospect Apartment Homes | 400 Prospect St, La Jolla, CA</address>, <address class=\"list-card-addr\">8446 Via Sonoma UNIT 94, La Jolla, CA 92037</address>, <address class=\"list-card-addr\">3161 Morning Way, La Jolla, CA 92037</address>, <address class=\"list-card-addr\">356 Playa Del Norte St, La Jolla, CA 92037</address>, <address class=\"list-card-addr\">1804 Caminito Ascua, La Jolla, CA 92037</address>, <address class=\"list-card-addr\">8529 Villa La Jolla Dr APT E, La Jolla, CA 92037</address>, <address class=\"list-card-addr\">3205 Via Alicante, La Jolla, CA 92037</address>]\n"
     ]
    }
   ],
   "source": [
    "addresses = []\n",
    "for i in soup:\n",
    "    address = soup.find_all(class_='list-card-addr')\n",
    "    addresses.append(address)\n",
    "print(addresses[0])\n",
    "print(addresses[1])"
   ]
  },
  {
   "cell_type": "markdown",
   "metadata": {},
   "source": [
    "### Part 2 "
   ]
  },
  {
   "cell_type": "code",
   "execution_count": 17,
   "metadata": {},
   "outputs": [
    {
     "data": {
      "text/plain": [
       "'https://www.zillow.com/homedetails/8966-Cliffridge-Ave-La-Jolla-CA-92037/16835000_zpid/'"
      ]
     },
     "execution_count": 17,
     "metadata": {},
     "output_type": "execute_result"
    }
   ],
   "source": [
    "df.iloc[0]['link']"
   ]
  },
  {
   "cell_type": "code",
   "execution_count": 120,
   "metadata": {},
   "outputs": [
    {
     "name": "stdout",
     "output_type": "stream",
     "text": [
      "200\n"
     ]
    }
   ],
   "source": [
    "# get detail specifications from specific rent pages \n",
    "# user the first link as an example \n",
    "ex_link = df.iloc[0]['link']\n",
    "\n",
    "# get the website \n",
    "page = requests.get(ex_link, headers=header) # don't to run it too much!!!\n",
    "print(page.status_code)\n",
    "\n",
    "# save it for later experiment\n",
    "if os.path.exists('page_example.txt'): os.remove('page_example.txt')\n",
    "with open('page_example.txt', 'w') as file:\n",
    "    file.write(page.text)"
   ]
  },
  {
   "cell_type": "code",
   "execution_count": 5,
   "metadata": {},
   "outputs": [],
   "source": [
    "page_txt = parse_file('page_example.txt')"
   ]
  },
  {
   "cell_type": "markdown",
   "metadata": {},
   "source": [
    "The page elements has dynamic class ids which makes it harder to parse"
   ]
  },
  {
   "cell_type": "code",
   "execution_count": 38,
   "metadata": {},
   "outputs": [],
   "source": [
    "import re\n",
    "\n",
    "text = page_txt.text\n",
    "re.match(r'(Overview)+', text)"
   ]
  },
  {
   "cell_type": "markdown",
   "metadata": {},
   "source": [
    "### Updated: Use Selenium to simulate scrolling in order to load all the elements"
   ]
  },
  {
   "cell_type": "code",
   "execution_count": 1,
   "metadata": {},
   "outputs": [],
   "source": [
    "from msedge.selenium_tools import Edge\n",
    "from msedge.selenium_tools import EdgeOptions\n",
    "from selenium.common.exceptions import NoSuchElementException\n",
    "import time\n",
    "import os\n",
    "import csv\n",
    "import requests\n",
    "from bs4 import BeautifulSoup as soup\n",
    "import pandas as pd\n",
    "import re"
   ]
  },
  {
   "cell_type": "code",
   "execution_count": 7,
   "outputs": [],
   "source": [
    "# initializes the webscraper (function __init__)\n",
    "options = EdgeOptions()\n",
    "options.use_chromium = True\n",
    "# need to find ways to dynamically implement a proxy\n",
    "# proxy_ip = \"103.92.114.2:80\" # from freeproxy.com\n",
    "# options.add_argument(\"--proxy-server=%s\" % proxy_ip)\n",
    "options.add_argument('--ignore-certificate-errors')\n",
    "options.add_argument('--incognito')\n",
    "options.add_argument('start-maximized')\n",
    "# options.add_argument('--headless') # use headless if don't want a window to pop up\n",
    "driver = Edge(options = options)"
   ],
   "metadata": {
    "collapsed": false,
    "pycharm": {
     "name": "#%%\n"
    }
   }
  },
  {
   "cell_type": "code",
   "execution_count": 8,
   "outputs": [],
   "source": [
    "# open target page (might fail, gotta be put into a try block in actual code) (function __init__)\n",
    "url = \"https://www.zillow.com/la-jolla-san-diego-ca/rentals\"\n",
    "# header = {'user-agent': 'Mozilla/5.0 (Macintosh; Intel Mac OS X 10_15_7) AppleWebKit/537.36 (KHTML, like Gecko) Chrome/95.0.4638.69 Safari/537.36 Edg/95.0.1020.53', 'refer': url} # not necessary\n",
    "driver.get(url)\n",
    "time.sleep(3)"
   ],
   "metadata": {
    "collapsed": false,
    "pycharm": {
     "name": "#%%\n"
    }
   }
  },
  {
   "cell_type": "code",
   "execution_count": 9,
   "outputs": [],
   "source": [
    "# incrementally scroll to the bottom of the page then extract the page html (function load_page)\n",
    "scroll_height = driver.find_element_by_id(\"grid-search-results\").size['height']\n",
    "current, step = 0, 200\n",
    "while current<scroll_height:\n",
    "    current += step\n",
    "    driver.execute_script(f\"document.getElementById('search-page-list-container').scrollTo(0, {current})\") # 600 per 3 rows of listings\n",
    "    time.sleep(1)"
   ],
   "metadata": {
    "collapsed": false,
    "pycharm": {
     "name": "#%%\n"
    }
   }
  },
  {
   "cell_type": "code",
   "execution_count": 17,
   "outputs": [
    {
     "ename": "SyntaxError",
     "evalue": "unexpected EOF while parsing (Temp/ipykernel_18208/359194341.py, line 7)",
     "output_type": "error",
     "traceback": [
      "\u001B[1;36m  File \u001B[1;32m\"C:\\Users\\xueze\\AppData\\Local\\Temp/ipykernel_18208/359194341.py\"\u001B[1;36m, line \u001B[1;32m7\u001B[0m\n\u001B[1;33m    \u001B[0m\n\u001B[1;37m    ^\u001B[0m\n\u001B[1;31mSyntaxError\u001B[0m\u001B[1;31m:\u001B[0m unexpected EOF while parsing\n"
     ]
    }
   ],
   "source": [
    "# save the html source from all the listings (function extract_listings)\n",
    "listings = driver.find_elements_by_css_selector(\".list-card.list-card-additional-attribution.list-card_not-saved\")\n",
    "listings_html = [l.get_attribute('innerHTML') for l in listings]"
   ],
   "metadata": {
    "collapsed": false,
    "pycharm": {
     "name": "#%%\n"
    }
   }
  },
  {
   "cell_type": "code",
   "execution_count": null,
   "outputs": [],
   "source": [
    "# after scraping a page of data, switch pages (function turn_page, should be embedded in extract_listing)\n",
    "while True:\n",
    "    next = driver.find_elements_by_xpath('*[@id=\"grid-search-results\"]/div[3]/nav/ul/li[5]/a')\n",
    "    if next.is_enabled():\n",
    "        next.click()\n",
    "    else:\n",
    "        break"
   ],
   "metadata": {
    "collapsed": false,
    "pycharm": {
     "name": "#%%\n"
    }
   }
  },
  {
   "cell_type": "code",
   "execution_count": 2,
   "outputs": [],
   "source": [
    "# temporary block that save html source into a file for later prototyping\n",
    "def save_listings_html(listings_html, filename=\"listings_html.txt\"):\n",
    "    if os.path.exists(filename):\n",
    "        os.remove(filename)\n",
    "    with open(filename, 'a') as file:\n",
    "        for lst in listings_html:\n",
    "            file.write(lst)\n",
    "            file.write('\\n')\n",
    "def read_listings_html(filename=\"listings_html.txt\"):\n",
    "    if not os.path.exists(filename):\n",
    "        return \"file doesn't exist\"\n",
    "    with open(filename, 'r') as file:\n",
    "        lines = file.readlines()\n",
    "        return lines"
   ],
   "metadata": {
    "collapsed": false,
    "pycharm": {
     "name": "#%%\n"
    }
   }
  },
  {
   "cell_type": "code",
   "execution_count": null,
   "outputs": [],
   "source": [
    "# ran the saving function\n",
    "save_listings_html(listings_html)"
   ],
   "metadata": {
    "collapsed": false,
    "pycharm": {
     "name": "#%%\n"
    }
   }
  },
  {
   "cell_type": "code",
   "execution_count": 3,
   "outputs": [],
   "source": [
    "# read the stored listing html source\n",
    "read_listings = read_listings_html()"
   ],
   "metadata": {
    "collapsed": false,
    "pycharm": {
     "name": "#%%\n"
    }
   }
  },
  {
   "cell_type": "code",
   "execution_count": 64,
   "outputs": [],
   "source": [
    "# use beautifulsoup to parse the html source (function extract_listings)\n",
    "def parse_singel_listing(source):\n",
    "    parsed = soup(source, \"html.parser\")\n",
    "    # get the link\n",
    "    link_header = \"https://www.zillow.com\"\n",
    "    link = parsed.find('a', {'class': 'list-card-link'}).get('href')\n",
    "    flag=False # flag for which pattern structure to use for parsing\n",
    "    if not link.startswith(link_header, 0, len(link_header)):\n",
    "        flag=True\n",
    "        link = link_header + link\n",
    "    # get basic info\n",
    "    addr=parsed.find('address', {\"class\": 'list-card-addr'}).text\n",
    "    price=parsed.find('div', {'class': 'list-card-price'}).text\n",
    "    detail=parsed.find('ul', {'class': 'list-card-details'}).text\n",
    "    if not flag:\n",
    "        pat=r\"([1-9] bd)[s]*([1-9\\.]+ ba)([0-9,\\\\-]+ sqft)- (.*)\"\n",
    "        match=re.match(pat, detail)\n",
    "        ins={'addr': [addr], 'price': [price], 'link': [link]}\n",
    "        for index, cat in enumerate(['bds','ba','sqft','type']):\n",
    "            if match!=None:\n",
    "                ins[cat]=match.group(index+1).split()[0]\n",
    "        return pd.DataFrame.from_dict(ins)\n",
    "    else:\n",
    "        if len(detail)==0:\n",
    "            return pd.DataFrame.from_dict({'addr': [addr], 'price': [price.split()[0]], 'bds': [price.split()[1]], 'link': [link]})\n",
    "        temp_price = [i.split()[0] for i in [price, detail]]\n",
    "        temp_bds = [i.split()[1] for i in [price, detail]] # include 'studio' as an option\n",
    "        ins={'addr': [addr]*len(temp_price), 'price': temp_price, 'bds': temp_bds, 'link': [link]*len(temp_price)}\n",
    "        return pd.DataFrame.from_dict(ins)"
   ],
   "metadata": {
    "collapsed": false,
    "pycharm": {
     "name": "#%%\n"
    }
   }
  },
  {
   "cell_type": "code",
   "execution_count": 67,
   "outputs": [],
   "source": [
    "# save the parsed data into a csv file (function saved_extracted_data)\n",
    "df = pd.concat([parse_singel_listing(i) for i in read_listings]).reset_index(drop=True)\n",
    "# df.to_csv('listing.csv')"
   ],
   "metadata": {
    "collapsed": false,
    "pycharm": {
     "name": "#%%\n"
    }
   }
  },
  {
   "cell_type": "code",
   "execution_count": 66,
   "outputs": [
    {
     "data": {
      "text/plain": "                                                 addr       price     bds  \\\n0   Solazzo Apartments Homes | 8506 Villa La Jolla...     $2,830+       1   \n1          8039 Caminito Mallorca, La Jolla, CA 92037   $3,200/mo       3   \n2            Prospect | 315 Prospect St, La Jolla, CA     $3,050+       1   \n3            Prospect | 315 Prospect St, La Jolla, CA     $4,195+       2   \n4               607 Westbourne St, La Jolla, CA 92037   $6,500/mo       3   \n5                       8368 Via Sonoma, La Jolla, CA     $2,300+       1   \n6   Ocean House on Prospect Apartment Homes | 400 ...     $4,990+       1   \n7   Ocean House on Prospect Apartment Homes | 400 ...    $10,114+       2   \n8    Village Square | 8683 Via Mallorca, La Jolla, CA     $2,425+       1   \n9   1141 SILVERADO ST. | 1141 Silverado St, La Jol...     $1,750+  Studio   \n10         303 Coast Blvd UNIT 14, La Jolla, CA 92037   $5,500/mo       2   \n11                  7428 Eads Ave, La Jolla, CA 92037   $7,300/mo       3   \n12                5734 Dolphin Pl, La Jolla, CA 92037  $17,500/mo       3   \n13        6535 Caminito Northland, La Jolla, CA 92037   $6,500/mo       3   \n14             8871 Nottingham Pl, La Jolla, CA 92037   $7,495/mo       5   \n15              5858 Sagebrush Rd, La Jolla, CA 92037   $6,900/mo       4   \n16                  837 Agate St, San Diego, CA 92109   $2,295/mo       1   \n17    6455 La Jolla Blvd UNIT 253, La Jolla, CA 92037   $3,400/mo       2   \n18           2312 Bahia Dr #1YEAR, La Jolla, CA 92037   $5,495/mo       3   \n19               8509 Villa La Jolla Dr, La Jolla, CA     $2,450+       1   \n20               8509 Villa La Jolla Dr, La Jolla, CA     $2,990+       2   \n21               2328 Rue De Anne, La Jolla, CA 92037  $14,995/mo       3   \n22           8272 Caminito Sonoma, La Jolla, CA 92037   $4,650/mo       4   \n23                6820 Draper Ave, La Jolla, CA 92037   $6,995/mo       2   \n24        8392 La Jolla Shores Dr, La Jolla, CA 92037  $25,000/mo       3   \n25           1115 Pearl St UNIT 5, La Jolla, CA 92037   $4,250/mo       2   \n26                  5220 Cass St, San Diego, CA 92109   $5,950/mo       3   \n27        8644 Via Mallorca APT G, La Jolla, CA 92037   $2,700/mo       1   \n28               5552 Via Callado, La Jolla, CA 92037  $32,000/mo       5   \n29                7325 Draper Ave, La Jolla, CA 92037   $3,895/mo       2   \n30               1113 Pearl St #8, La Jolla, CA 92037   $5,900/mo       2   \n31               3187 Morning Way, La Jolla, CA 92037   $5,000/mo       3   \n32          2780 Carriagedale Row, La Jolla, CA 92037   $5,500/mo       4   \n33             1327 Cottontail Ln, La Jolla, CA 92037   $9,500/mo       4   \n34           1040 Coast Blvd #103, La Jolla, CA 92037   $5,250/mo       2   \n35                  7502 High Ave, La Jolla, CA 92037  $10,000/mo       3   \n36           1020 Coast Blvd S #2, La Jolla, CA 92037   $3,795/mo       1   \n37           2872 Torrey Pines Rd, La Jolla, CA 92037   $6,500/mo       3   \n38         1205 Coast Blvd UNIT F, La Jolla, CA 92037  $13,000/mo       2   \n39                7530 Draper Ave, La Jolla, CA 92037   $8,400/mo       3   \n40               6043 Oakgate Row, La Jolla, CA 92037   $6,495/mo       4   \n41             2614 Costebelle Dr, La Jolla, CA 92037  $10,000/mo       4   \n42          2727 Carriagedale Row, La Jolla, CA 92037   $8,750/mo       4   \n\n                                                 link   ba   sqft       type  \n0   https://www.zillow.com/b/solazzo-apartments-ho...  NaN    NaN        NaN  \n1   https://www.zillow.com/homedetails/8039-Camini...  2.5  1,467  Townhouse  \n2   https://www.zillow.com/b/prospect-la-jolla-ca-...  NaN    NaN        NaN  \n3   https://www.zillow.com/b/prospect-la-jolla-ca-...  NaN    NaN        NaN  \n4   https://www.zillow.com/homedetails/607-Westbou...    3  2,012  Townhouse  \n5   https://www.zillow.com/b/la-jolla-park-villas-...  NaN    NaN        NaN  \n6   https://www.zillow.com/b/ocean-house-on-prospe...  NaN    NaN        NaN  \n7   https://www.zillow.com/b/ocean-house-on-prospe...  NaN    NaN        NaN  \n8   https://www.zillow.com/b/village-square-la-jol...  NaN    NaN        NaN  \n9   https://www.zillow.com/b/1141-silverado-st.-la...  NaN    NaN        NaN  \n10  https://www.zillow.com/homedetails/303-Coast-B...    2  1,117  Apartment  \n11  https://www.zillow.com/homedetails/7428-Eads-A...  3.5  1,164      House  \n12  https://www.zillow.com/homedetails/5734-Dolphi...  3.5  2,950      House  \n13  https://www.zillow.com/homedetails/6535-Camini...    3  2,800      House  \n14  https://www.zillow.com/homedetails/8871-Nottin...    4  3,314      House  \n15  https://www.zillow.com/homedetails/5858-Sagebr...    3  1,970      House  \n16  https://www.zillow.com/homedetails/837-Agate-S...    1    600  Apartment  \n17  https://www.zillow.com/homedetails/6455-La-Jol...    2    989  Apartment  \n18  https://www.zillow.com/homedetails/2312-Bahia-...    2  1,700  Apartment  \n19  https://www.zillow.com/b/villa-la-jolla-condom...  NaN    NaN        NaN  \n20  https://www.zillow.com/b/villa-la-jolla-condom...  NaN    NaN        NaN  \n21  https://www.zillow.com/homedetails/2328-Rue-De...  3.5  3,743      House  \n22  https://www.zillow.com/homedetails/8272-Camini...    3  1,534  Townhouse  \n23  https://www.zillow.com/homedetails/6820-Draper...  2.5  1,800  Townhouse  \n24  https://www.zillow.com/homedetails/8392-La-Jol...    3  2,800      House  \n25  https://www.zillow.com/homedetails/1115-Pearl-...    2  1,381  Apartment  \n26  https://www.zillow.com/homedetails/5220-Cass-S...    2  1,500      House  \n27  https://www.zillow.com/homedetails/8644-Via-Ma...    1    504  Apartment  \n28  https://www.zillow.com/homedetails/5552-Via-Ca...    6  4,213      House  \n29  https://www.zillow.com/homedetails/7325-Draper...  2.5  1,050  Apartment  \n30  https://www.zillow.com/homedetails/1113-Pearl-...    2  1,241      Condo  \n31  https://www.zillow.com/homedetails/3187-Mornin...  2.5  1,640  Apartment  \n32  https://www.zillow.com/homedetails/2780-Carria...    4  2,090      House  \n33  https://www.zillow.com/homedetails/1327-Cotton...    3  1,904      House  \n34  https://www.zillow.com/homedetails/1040-Coast-...    2  1,125      Condo  \n35  https://www.zillow.com/homedetails/7502-High-A...    3  1,300      House  \n36  https://www.zillow.com/homedetails/1020-Coast-...    1     --  Apartment  \n37  https://www.zillow.com/homedetails/2872-Torrey...    3  2,083  Townhouse  \n38  https://www.zillow.com/homedetails/1205-Coast-...    2  2,040      Condo  \n39  https://www.zillow.com/homedetails/7530-Draper...  3.5  2,185  Townhouse  \n40  https://www.zillow.com/homedetails/6043-Oakgat...  2.5  2,716      House  \n41  https://www.zillow.com/homedetails/2614-Costeb...    4  4,075      House  \n42  https://www.zillow.com/homedetails/2727-Carria...  3.5  2,939      House  ",
      "text/html": "<div>\n<style scoped>\n    .dataframe tbody tr th:only-of-type {\n        vertical-align: middle;\n    }\n\n    .dataframe tbody tr th {\n        vertical-align: top;\n    }\n\n    .dataframe thead th {\n        text-align: right;\n    }\n</style>\n<table border=\"1\" class=\"dataframe\">\n  <thead>\n    <tr style=\"text-align: right;\">\n      <th></th>\n      <th>addr</th>\n      <th>price</th>\n      <th>bds</th>\n      <th>link</th>\n      <th>ba</th>\n      <th>sqft</th>\n      <th>type</th>\n    </tr>\n  </thead>\n  <tbody>\n    <tr>\n      <th>0</th>\n      <td>Solazzo Apartments Homes | 8506 Villa La Jolla...</td>\n      <td>$2,830+</td>\n      <td>1</td>\n      <td>https://www.zillow.com/b/solazzo-apartments-ho...</td>\n      <td>NaN</td>\n      <td>NaN</td>\n      <td>NaN</td>\n    </tr>\n    <tr>\n      <th>1</th>\n      <td>8039 Caminito Mallorca, La Jolla, CA 92037</td>\n      <td>$3,200/mo</td>\n      <td>3</td>\n      <td>https://www.zillow.com/homedetails/8039-Camini...</td>\n      <td>2.5</td>\n      <td>1,467</td>\n      <td>Townhouse</td>\n    </tr>\n    <tr>\n      <th>2</th>\n      <td>Prospect | 315 Prospect St, La Jolla, CA</td>\n      <td>$3,050+</td>\n      <td>1</td>\n      <td>https://www.zillow.com/b/prospect-la-jolla-ca-...</td>\n      <td>NaN</td>\n      <td>NaN</td>\n      <td>NaN</td>\n    </tr>\n    <tr>\n      <th>3</th>\n      <td>Prospect | 315 Prospect St, La Jolla, CA</td>\n      <td>$4,195+</td>\n      <td>2</td>\n      <td>https://www.zillow.com/b/prospect-la-jolla-ca-...</td>\n      <td>NaN</td>\n      <td>NaN</td>\n      <td>NaN</td>\n    </tr>\n    <tr>\n      <th>4</th>\n      <td>607 Westbourne St, La Jolla, CA 92037</td>\n      <td>$6,500/mo</td>\n      <td>3</td>\n      <td>https://www.zillow.com/homedetails/607-Westbou...</td>\n      <td>3</td>\n      <td>2,012</td>\n      <td>Townhouse</td>\n    </tr>\n    <tr>\n      <th>5</th>\n      <td>8368 Via Sonoma, La Jolla, CA</td>\n      <td>$2,300+</td>\n      <td>1</td>\n      <td>https://www.zillow.com/b/la-jolla-park-villas-...</td>\n      <td>NaN</td>\n      <td>NaN</td>\n      <td>NaN</td>\n    </tr>\n    <tr>\n      <th>6</th>\n      <td>Ocean House on Prospect Apartment Homes | 400 ...</td>\n      <td>$4,990+</td>\n      <td>1</td>\n      <td>https://www.zillow.com/b/ocean-house-on-prospe...</td>\n      <td>NaN</td>\n      <td>NaN</td>\n      <td>NaN</td>\n    </tr>\n    <tr>\n      <th>7</th>\n      <td>Ocean House on Prospect Apartment Homes | 400 ...</td>\n      <td>$10,114+</td>\n      <td>2</td>\n      <td>https://www.zillow.com/b/ocean-house-on-prospe...</td>\n      <td>NaN</td>\n      <td>NaN</td>\n      <td>NaN</td>\n    </tr>\n    <tr>\n      <th>8</th>\n      <td>Village Square | 8683 Via Mallorca, La Jolla, CA</td>\n      <td>$2,425+</td>\n      <td>1</td>\n      <td>https://www.zillow.com/b/village-square-la-jol...</td>\n      <td>NaN</td>\n      <td>NaN</td>\n      <td>NaN</td>\n    </tr>\n    <tr>\n      <th>9</th>\n      <td>1141 SILVERADO ST. | 1141 Silverado St, La Jol...</td>\n      <td>$1,750+</td>\n      <td>Studio</td>\n      <td>https://www.zillow.com/b/1141-silverado-st.-la...</td>\n      <td>NaN</td>\n      <td>NaN</td>\n      <td>NaN</td>\n    </tr>\n    <tr>\n      <th>10</th>\n      <td>303 Coast Blvd UNIT 14, La Jolla, CA 92037</td>\n      <td>$5,500/mo</td>\n      <td>2</td>\n      <td>https://www.zillow.com/homedetails/303-Coast-B...</td>\n      <td>2</td>\n      <td>1,117</td>\n      <td>Apartment</td>\n    </tr>\n    <tr>\n      <th>11</th>\n      <td>7428 Eads Ave, La Jolla, CA 92037</td>\n      <td>$7,300/mo</td>\n      <td>3</td>\n      <td>https://www.zillow.com/homedetails/7428-Eads-A...</td>\n      <td>3.5</td>\n      <td>1,164</td>\n      <td>House</td>\n    </tr>\n    <tr>\n      <th>12</th>\n      <td>5734 Dolphin Pl, La Jolla, CA 92037</td>\n      <td>$17,500/mo</td>\n      <td>3</td>\n      <td>https://www.zillow.com/homedetails/5734-Dolphi...</td>\n      <td>3.5</td>\n      <td>2,950</td>\n      <td>House</td>\n    </tr>\n    <tr>\n      <th>13</th>\n      <td>6535 Caminito Northland, La Jolla, CA 92037</td>\n      <td>$6,500/mo</td>\n      <td>3</td>\n      <td>https://www.zillow.com/homedetails/6535-Camini...</td>\n      <td>3</td>\n      <td>2,800</td>\n      <td>House</td>\n    </tr>\n    <tr>\n      <th>14</th>\n      <td>8871 Nottingham Pl, La Jolla, CA 92037</td>\n      <td>$7,495/mo</td>\n      <td>5</td>\n      <td>https://www.zillow.com/homedetails/8871-Nottin...</td>\n      <td>4</td>\n      <td>3,314</td>\n      <td>House</td>\n    </tr>\n    <tr>\n      <th>15</th>\n      <td>5858 Sagebrush Rd, La Jolla, CA 92037</td>\n      <td>$6,900/mo</td>\n      <td>4</td>\n      <td>https://www.zillow.com/homedetails/5858-Sagebr...</td>\n      <td>3</td>\n      <td>1,970</td>\n      <td>House</td>\n    </tr>\n    <tr>\n      <th>16</th>\n      <td>837 Agate St, San Diego, CA 92109</td>\n      <td>$2,295/mo</td>\n      <td>1</td>\n      <td>https://www.zillow.com/homedetails/837-Agate-S...</td>\n      <td>1</td>\n      <td>600</td>\n      <td>Apartment</td>\n    </tr>\n    <tr>\n      <th>17</th>\n      <td>6455 La Jolla Blvd UNIT 253, La Jolla, CA 92037</td>\n      <td>$3,400/mo</td>\n      <td>2</td>\n      <td>https://www.zillow.com/homedetails/6455-La-Jol...</td>\n      <td>2</td>\n      <td>989</td>\n      <td>Apartment</td>\n    </tr>\n    <tr>\n      <th>18</th>\n      <td>2312 Bahia Dr #1YEAR, La Jolla, CA 92037</td>\n      <td>$5,495/mo</td>\n      <td>3</td>\n      <td>https://www.zillow.com/homedetails/2312-Bahia-...</td>\n      <td>2</td>\n      <td>1,700</td>\n      <td>Apartment</td>\n    </tr>\n    <tr>\n      <th>19</th>\n      <td>8509 Villa La Jolla Dr, La Jolla, CA</td>\n      <td>$2,450+</td>\n      <td>1</td>\n      <td>https://www.zillow.com/b/villa-la-jolla-condom...</td>\n      <td>NaN</td>\n      <td>NaN</td>\n      <td>NaN</td>\n    </tr>\n    <tr>\n      <th>20</th>\n      <td>8509 Villa La Jolla Dr, La Jolla, CA</td>\n      <td>$2,990+</td>\n      <td>2</td>\n      <td>https://www.zillow.com/b/villa-la-jolla-condom...</td>\n      <td>NaN</td>\n      <td>NaN</td>\n      <td>NaN</td>\n    </tr>\n    <tr>\n      <th>21</th>\n      <td>2328 Rue De Anne, La Jolla, CA 92037</td>\n      <td>$14,995/mo</td>\n      <td>3</td>\n      <td>https://www.zillow.com/homedetails/2328-Rue-De...</td>\n      <td>3.5</td>\n      <td>3,743</td>\n      <td>House</td>\n    </tr>\n    <tr>\n      <th>22</th>\n      <td>8272 Caminito Sonoma, La Jolla, CA 92037</td>\n      <td>$4,650/mo</td>\n      <td>4</td>\n      <td>https://www.zillow.com/homedetails/8272-Camini...</td>\n      <td>3</td>\n      <td>1,534</td>\n      <td>Townhouse</td>\n    </tr>\n    <tr>\n      <th>23</th>\n      <td>6820 Draper Ave, La Jolla, CA 92037</td>\n      <td>$6,995/mo</td>\n      <td>2</td>\n      <td>https://www.zillow.com/homedetails/6820-Draper...</td>\n      <td>2.5</td>\n      <td>1,800</td>\n      <td>Townhouse</td>\n    </tr>\n    <tr>\n      <th>24</th>\n      <td>8392 La Jolla Shores Dr, La Jolla, CA 92037</td>\n      <td>$25,000/mo</td>\n      <td>3</td>\n      <td>https://www.zillow.com/homedetails/8392-La-Jol...</td>\n      <td>3</td>\n      <td>2,800</td>\n      <td>House</td>\n    </tr>\n    <tr>\n      <th>25</th>\n      <td>1115 Pearl St UNIT 5, La Jolla, CA 92037</td>\n      <td>$4,250/mo</td>\n      <td>2</td>\n      <td>https://www.zillow.com/homedetails/1115-Pearl-...</td>\n      <td>2</td>\n      <td>1,381</td>\n      <td>Apartment</td>\n    </tr>\n    <tr>\n      <th>26</th>\n      <td>5220 Cass St, San Diego, CA 92109</td>\n      <td>$5,950/mo</td>\n      <td>3</td>\n      <td>https://www.zillow.com/homedetails/5220-Cass-S...</td>\n      <td>2</td>\n      <td>1,500</td>\n      <td>House</td>\n    </tr>\n    <tr>\n      <th>27</th>\n      <td>8644 Via Mallorca APT G, La Jolla, CA 92037</td>\n      <td>$2,700/mo</td>\n      <td>1</td>\n      <td>https://www.zillow.com/homedetails/8644-Via-Ma...</td>\n      <td>1</td>\n      <td>504</td>\n      <td>Apartment</td>\n    </tr>\n    <tr>\n      <th>28</th>\n      <td>5552 Via Callado, La Jolla, CA 92037</td>\n      <td>$32,000/mo</td>\n      <td>5</td>\n      <td>https://www.zillow.com/homedetails/5552-Via-Ca...</td>\n      <td>6</td>\n      <td>4,213</td>\n      <td>House</td>\n    </tr>\n    <tr>\n      <th>29</th>\n      <td>7325 Draper Ave, La Jolla, CA 92037</td>\n      <td>$3,895/mo</td>\n      <td>2</td>\n      <td>https://www.zillow.com/homedetails/7325-Draper...</td>\n      <td>2.5</td>\n      <td>1,050</td>\n      <td>Apartment</td>\n    </tr>\n    <tr>\n      <th>30</th>\n      <td>1113 Pearl St #8, La Jolla, CA 92037</td>\n      <td>$5,900/mo</td>\n      <td>2</td>\n      <td>https://www.zillow.com/homedetails/1113-Pearl-...</td>\n      <td>2</td>\n      <td>1,241</td>\n      <td>Condo</td>\n    </tr>\n    <tr>\n      <th>31</th>\n      <td>3187 Morning Way, La Jolla, CA 92037</td>\n      <td>$5,000/mo</td>\n      <td>3</td>\n      <td>https://www.zillow.com/homedetails/3187-Mornin...</td>\n      <td>2.5</td>\n      <td>1,640</td>\n      <td>Apartment</td>\n    </tr>\n    <tr>\n      <th>32</th>\n      <td>2780 Carriagedale Row, La Jolla, CA 92037</td>\n      <td>$5,500/mo</td>\n      <td>4</td>\n      <td>https://www.zillow.com/homedetails/2780-Carria...</td>\n      <td>4</td>\n      <td>2,090</td>\n      <td>House</td>\n    </tr>\n    <tr>\n      <th>33</th>\n      <td>1327 Cottontail Ln, La Jolla, CA 92037</td>\n      <td>$9,500/mo</td>\n      <td>4</td>\n      <td>https://www.zillow.com/homedetails/1327-Cotton...</td>\n      <td>3</td>\n      <td>1,904</td>\n      <td>House</td>\n    </tr>\n    <tr>\n      <th>34</th>\n      <td>1040 Coast Blvd #103, La Jolla, CA 92037</td>\n      <td>$5,250/mo</td>\n      <td>2</td>\n      <td>https://www.zillow.com/homedetails/1040-Coast-...</td>\n      <td>2</td>\n      <td>1,125</td>\n      <td>Condo</td>\n    </tr>\n    <tr>\n      <th>35</th>\n      <td>7502 High Ave, La Jolla, CA 92037</td>\n      <td>$10,000/mo</td>\n      <td>3</td>\n      <td>https://www.zillow.com/homedetails/7502-High-A...</td>\n      <td>3</td>\n      <td>1,300</td>\n      <td>House</td>\n    </tr>\n    <tr>\n      <th>36</th>\n      <td>1020 Coast Blvd S #2, La Jolla, CA 92037</td>\n      <td>$3,795/mo</td>\n      <td>1</td>\n      <td>https://www.zillow.com/homedetails/1020-Coast-...</td>\n      <td>1</td>\n      <td>--</td>\n      <td>Apartment</td>\n    </tr>\n    <tr>\n      <th>37</th>\n      <td>2872 Torrey Pines Rd, La Jolla, CA 92037</td>\n      <td>$6,500/mo</td>\n      <td>3</td>\n      <td>https://www.zillow.com/homedetails/2872-Torrey...</td>\n      <td>3</td>\n      <td>2,083</td>\n      <td>Townhouse</td>\n    </tr>\n    <tr>\n      <th>38</th>\n      <td>1205 Coast Blvd UNIT F, La Jolla, CA 92037</td>\n      <td>$13,000/mo</td>\n      <td>2</td>\n      <td>https://www.zillow.com/homedetails/1205-Coast-...</td>\n      <td>2</td>\n      <td>2,040</td>\n      <td>Condo</td>\n    </tr>\n    <tr>\n      <th>39</th>\n      <td>7530 Draper Ave, La Jolla, CA 92037</td>\n      <td>$8,400/mo</td>\n      <td>3</td>\n      <td>https://www.zillow.com/homedetails/7530-Draper...</td>\n      <td>3.5</td>\n      <td>2,185</td>\n      <td>Townhouse</td>\n    </tr>\n    <tr>\n      <th>40</th>\n      <td>6043 Oakgate Row, La Jolla, CA 92037</td>\n      <td>$6,495/mo</td>\n      <td>4</td>\n      <td>https://www.zillow.com/homedetails/6043-Oakgat...</td>\n      <td>2.5</td>\n      <td>2,716</td>\n      <td>House</td>\n    </tr>\n    <tr>\n      <th>41</th>\n      <td>2614 Costebelle Dr, La Jolla, CA 92037</td>\n      <td>$10,000/mo</td>\n      <td>4</td>\n      <td>https://www.zillow.com/homedetails/2614-Costeb...</td>\n      <td>4</td>\n      <td>4,075</td>\n      <td>House</td>\n    </tr>\n    <tr>\n      <th>42</th>\n      <td>2727 Carriagedale Row, La Jolla, CA 92037</td>\n      <td>$8,750/mo</td>\n      <td>4</td>\n      <td>https://www.zillow.com/homedetails/2727-Carria...</td>\n      <td>3.5</td>\n      <td>2,939</td>\n      <td>House</td>\n    </tr>\n  </tbody>\n</table>\n</div>"
     },
     "execution_count": 66,
     "metadata": {},
     "output_type": "execute_result"
    }
   ],
   "source": [
    "df"
   ],
   "metadata": {
    "collapsed": false,
    "pycharm": {
     "name": "#%%\n"
    }
   }
  }
 ],
 "metadata": {
  "interpreter": {
   "hash": "31f2aee4e71d21fbe5cf8b01ff0e069b9275f58929596ceb00d14d90e3e16cd6"
  },
  "kernelspec": {
   "display_name": "Python 3.8.9 64-bit",
   "language": "python",
   "name": "python3"
  },
  "language_info": {
   "codemirror_mode": {
    "name": "ipython",
    "version": 3
   },
   "file_extension": ".py",
   "mimetype": "text/x-python",
   "name": "python",
   "nbconvert_exporter": "python",
   "pygments_lexer": "ipython3",
   "version": "3.8.12"
  },
  "orig_nbformat": 4
 },
 "nbformat": 4,
 "nbformat_minor": 2
}