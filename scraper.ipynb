{
 "cells": [
  {
   "cell_type": "markdown",
   "metadata": {},
   "source": [
    "## Scrape Zillow Housing Data\n",
    "- Get all the housing information for renting location around UCSD, i.e. in La Jolla \n",
    "\n",
    "Part 1: From General Overall Page\n",
    "- bs4 + request; maybe a little bit of automation to interact with search bar and bottoms\n",
    "- Data Features: \n",
    "    1. Price\n",
    "    2. Address\n",
    "    3. beds, baths, sqft \n",
    "\n",
    "Part 2: From Individual Listing Page  "
   ]
  },
  {
   "cell_type": "code",
   "execution_count": 1,
   "metadata": {},
   "outputs": [],
   "source": [
    "import requests \n",
    "from bs4 import BeautifulSoup as soup"
   ]
  },
  {
   "cell_type": "code",
   "execution_count": 2,
   "metadata": {},
   "outputs": [],
   "source": [
    "# sample url for La Jolla renting list\n",
    "url = \"https://www.zillow.com/homes/La-Jolla-_rb/\""
   ]
  },
  {
   "cell_type": "code",
   "execution_count": 3,
   "metadata": {},
   "outputs": [],
   "source": [
    "# taken header from browser http request\n",
    "header = {'user-agent': 'Mozilla/5.0 (Macintosh; Intel Mac OS X 10_15_7) AppleWebKit/537.36 (KHTML, like Gecko) Chrome/95.0.4638.69 Safari/537.36 Edg/95.0.1020.44',\n",
    "    'refer': 'https://www.zillow.com/homes/San-Diego-_rb/'}"
   ]
  },
  {
   "cell_type": "code",
   "execution_count": 10,
   "metadata": {},
   "outputs": [
    {
     "name": "stdout",
     "output_type": "stream",
     "text": [
      "200\n"
     ]
    }
   ],
   "source": [
    "# get the website \n",
    "html = requests.get(url, headers=header) # don't to run it too much!!!\n",
    "print(html.status_code)"
   ]
  },
  {
   "cell_type": "code",
   "execution_count": 12,
   "metadata": {},
   "outputs": [],
   "source": [
    "# save it for later experiment\n",
    "import os\n",
    "if os.path.exists('zillow_la_jolla.txt'): os.remove('zillow_la_jolla.txt')\n",
    "with open('zillow_la_jolla.txt', 'w') as file:\n",
    "    file.write(html.text)"
   ]
  },
  {
   "cell_type": "code",
   "execution_count": 20,
   "metadata": {},
   "outputs": [],
   "source": [
    "# function to read HTML file back to string and parse it using bs4\n",
    "def parse_file(fp):\n",
    "    with open(fp, mode='r') as file:\n",
    "        html_txt = file.readlines()\n",
    "    return soup(''.join(html_txt), 'html.parser')\n",
    "html_txt = parse_file('zillow_la_jolla.txt')"
   ]
  },
  {
   "cell_type": "code",
   "execution_count": 69,
   "metadata": {},
   "outputs": [
    {
     "name": "stdout",
     "output_type": "stream",
     "text": [
      "This is the end of the page\n"
     ]
    }
   ],
   "source": [
    "# extract price, and detail info about the house\n",
    "import re \n",
    "pattern=r\"([1-9] bd)[s]*([1-9] ba)([0-9,\\-]+ sqft)-(.*)\"\n",
    "\n",
    "info=[]\n",
    "for house in html_txt.findAll('div', {'class':'list-card-heading'}):\n",
    "    if len(house.text)==0: # if there is nothing (usually happens at the end)\n",
    "        print('This is the end of the page')\n",
    "        continue \n",
    "    ins={}\n",
    "    price=house.find('div', {'class': 'list-card-price'}).text\n",
    "    detail=house.find('ul', {'class': 'list-card-details'}).text\n",
    "    match=re.match(pattern, detail)\n",
    "    for index, cat in enumerate(['bds','ba','sqft','house-type']): \n",
    "        ins[cat]=match.group(index+1)\n",
    "    info.append(info)"
   ]
  },
  {
   "cell_type": "code",
   "execution_count": null,
   "metadata": {},
   "outputs": [],
   "source": [
    "# extract the address of the house \n"
   ]
  }
 ],
 "metadata": {
  "interpreter": {
   "hash": "31f2aee4e71d21fbe5cf8b01ff0e069b9275f58929596ceb00d14d90e3e16cd6"
  },
  "kernelspec": {
   "display_name": "Python 3.8.9 64-bit",
   "language": "python",
   "name": "python3"
  },
  "language_info": {
   "codemirror_mode": {
    "name": "ipython",
    "version": 3
   },
   "file_extension": ".py",
   "mimetype": "text/x-python",
   "name": "python",
   "nbconvert_exporter": "python",
   "pygments_lexer": "ipython3",
   "version": "3.8.10"
  },
  "orig_nbformat": 4
 },
 "nbformat": 4,
 "nbformat_minor": 2
}
