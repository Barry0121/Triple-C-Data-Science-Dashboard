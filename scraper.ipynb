{
 "cells": [
  {
   "cell_type": "markdown",
   "metadata": {},
   "source": [
    "## Scrape Zillow Housing Data\n",
    "- Get all the housing information for renting location around UCSD, i.e. in La Jolla \n",
    "\n",
    "Part 1: From General Overall Page\n",
    "- bs4 + request\n",
    "- Data Features: \n",
    "    1. Price\n",
    "    2. Address\n",
    "    3. beds, baths, sqft \n",
    "\n",
    "Part 2: From Individual Listing Page  \n",
    "- Features: \n",
    "    1. More Info: Pets, Amenities, etc\n",
    "    2. Rent ZEstimate History (User Table View)"
   ]
  },
  {
   "cell_type": "markdown",
   "metadata": {},
   "source": [
    "### Part 1"
   ]
  },
  {
   "cell_type": "code",
   "execution_count": 53,
   "metadata": {},
   "outputs": [],
   "source": [
    "import requests \n",
    "from bs4 import BeautifulSoup as soup"
   ]
  },
  {
   "cell_type": "code",
   "execution_count": 55,
   "metadata": {},
   "outputs": [],
   "source": [
    "# sample url for La Jolla renting list\n",
    "url = \"https://www.zillow.com/la-jolla-san-diego-ca/rentals\" # url refers to the location "
   ]
  },
  {
   "cell_type": "code",
   "execution_count": 56,
   "metadata": {},
   "outputs": [],
   "source": [
    "# taken header from browser http request\n",
    "header = {'user-agent': 'Mozilla/5.0 (Macintosh; Intel Mac OS X 10_15_7) AppleWebKit/537.36 (KHTML, like Gecko) Chrome/95.0.4638.69 Safari/537.36 Edg/95.0.1020.53',\n",
    "    'refer': url} "
   ]
  },
  {
   "cell_type": "code",
   "execution_count": 57,
   "metadata": {},
   "outputs": [
    {
     "name": "stdout",
     "output_type": "stream",
     "text": [
      "200\n"
     ]
    }
   ],
   "source": [
    "# get the website \n",
    "html = requests.get(url, headers=header) # don't to run it too much!!!\n",
    "print(html.status_code)"
   ]
  },
  {
   "cell_type": "code",
   "execution_count": 58,
   "metadata": {},
   "outputs": [],
   "source": [
    "# save it for later experiment\n",
    "import os\n",
    "if os.path.exists('zillow_la_jolla.txt'): os.remove('zillow_la_jolla.txt')\n",
    "with open('zillow_la_jolla.txt', 'w') as file:\n",
    "    file.write(html.text)"
   ]
  },
  {
   "cell_type": "code",
   "execution_count": 59,
   "metadata": {},
   "outputs": [],
   "source": [
    "# function to read HTML file back to string and parse it using bs4\n",
    "def parse_file(fp):\n",
    "    with open(fp, mode='r') as file:\n",
    "        html_txt = file.readlines()\n",
    "    return soup(''.join(html_txt), 'html.parser')\n",
    "html_txt = parse_file('zillow_la_jolla.txt')"
   ]
  },
  {
   "cell_type": "code",
   "execution_count": 60,
   "metadata": {},
   "outputs": [
    {
     "name": "stdout",
     "output_type": "stream",
     "text": [
      "Reach the End\n",
      "Reach the End\n",
      "Reach the End\n",
      "Reach the End\n",
      "Reach the End\n",
      "Reach the End\n",
      "Reach the End\n",
      "Reach the End\n",
      "Reach the End\n",
      "Reach the End\n",
      "Reach the End\n",
      "Reach the End\n",
      "Reach the End\n",
      "Reach the End\n",
      "Reach the End\n",
      "Reach the End\n",
      "Reach the End\n",
      "Reach the End\n",
      "Reach the End\n",
      "Reach the End\n",
      "This is the end of the page\n"
     ]
    }
   ],
   "source": [
    "# extract price, and detail info about the house\n",
    "import re \n",
    "pattern=r\"([1-9] bd)[s]*([1-9] ba)([0-9,\\-]+ sqft)-(.*)\"\n",
    "\n",
    "info=[]\n",
    "for house in html_txt.findAll('div', {'class':'list-card-heading'}):\n",
    "    if len(house.text)==0: # if there is nothing (usually happens at the end)\n",
    "        print('This is the end of the page')\n",
    "        continue \n",
    "    ins={}\n",
    "    price=house.find('div', {'class': 'list-card-price'}).text\n",
    "    detail=house.find('ul', {'class': 'list-card-details'}).text\n",
    "    match=re.match(pattern, detail)\n",
    "    for index, cat in enumerate(['bds','ba','sqft','house-type']): \n",
    "        if match!=None: \n",
    "            ins[cat]=match.group(index+1)\n",
    "        else:\n",
    "            print(\"Reach the End\")\n",
    "    info.append(ins)"
   ]
  },
  {
   "cell_type": "code",
   "execution_count": 61,
   "metadata": {},
   "outputs": [
    {
     "data": {
      "text/plain": [
       "[('/b/solazzo-apartments-homes-la-jolla-ca-5Xk5YK/',\n",
       "  'Solazzo Apartments Homes | 8506 Villa La Jolla Dr, La Jolla, CA'),\n",
       " ('/b/ocean-house-on-prospect-apartment-homes-la-jolla-ca-5Xkm98/',\n",
       "  'Ocean House on Prospect Apartment Homes | 400 Prospect St, La Jolla, CA'),\n",
       " ('https://www.zillow.com/homedetails/8446-Via-Sonoma-UNIT-94-La-Jolla-CA-92037/16840698_zpid/',\n",
       "  '8446 Via Sonoma UNIT 94, La Jolla, CA 92037'),\n",
       " ('https://www.zillow.com/homedetails/8524-Via-Mallorca-La-Jolla-Ca-Office-1-BEDROOM-La-Jolla-CA-92037/2067481695_zpid/',\n",
       "  '8524 Via Mallorca La Jolla Ca Office #1-BEDROOM, La Jolla, CA 92037'),\n",
       " ('https://www.zillow.com/homedetails/3161-Morning-Way-La-Jolla-CA-92037/16835830_zpid/',\n",
       "  '3161 Morning Way, La Jolla, CA 92037'),\n",
       " ('https://www.zillow.com/homedetails/356-Playa-Del-Norte-St-La-Jolla-CA-92037/2069746535_zpid/',\n",
       "  '356 Playa Del Norte St, La Jolla, CA 92037'),\n",
       " ('https://www.zillow.com/homedetails/1804-Caminito-Ascua-La-Jolla-CA-92037/16857254_zpid/',\n",
       "  '1804 Caminito Ascua, La Jolla, CA 92037'),\n",
       " ('https://www.zillow.com/homedetails/8529-Villa-La-Jolla-Dr-APT-E-La-Jolla-CA-92037/2078414087_zpid/',\n",
       "  '8529 Villa La Jolla Dr APT E, La Jolla, CA 92037'),\n",
       " ('https://www.zillow.com/homedetails/3205-Via-Alicante-La-Jolla-CA-92037/2078716356_zpid/',\n",
       "  '3205 Via Alicante, La Jolla, CA 92037')]"
      ]
     },
     "execution_count": 61,
     "metadata": {},
     "output_type": "execute_result"
    }
   ],
   "source": [
    "# extract the address of the house \n",
    "link_addr = [] # format: (link, addr)\n",
    "for addr in html_txt.findAll('div', {'class': 'list-card-info'}): \n",
    "    ad=addr.find('address', {'class': 'list-card-addr'})\n",
    "    link=addr.find('a', {'class': 'list-card-link'})\n",
    "    if ad and link: \n",
    "        link_addr.append((link.get('href'), ad.text))\n",
    "link_addr"
   ]
  },
  {
   "cell_type": "code",
   "execution_count": 9,
   "metadata": {},
   "outputs": [
    {
     "data": {
      "text/plain": [
       "(9, 9)"
      ]
     },
     "execution_count": 9,
     "metadata": {},
     "output_type": "execute_result"
    }
   ],
   "source": [
    "len(info), len(link_addr)"
   ]
  },
  {
   "cell_type": "code",
   "execution_count": 10,
   "metadata": {},
   "outputs": [],
   "source": [
    "# store data in a dataframe \n",
    "import pandas as pd \n",
    "import numpy as np\n",
    "combined = []\n",
    "for i,j in zip(info, link_addr): \n",
    "    if len(i)==0 or len(j)==0: \n",
    "        continue\n",
    "    i.update(dict(zip(['link', 'address'], j)))\n",
    "    combined.append(i)"
   ]
  },
  {
   "cell_type": "code",
   "execution_count": 11,
   "metadata": {},
   "outputs": [
    {
     "data": {
      "text/html": [
       "<div>\n",
       "<style scoped>\n",
       "    .dataframe tbody tr th:only-of-type {\n",
       "        vertical-align: middle;\n",
       "    }\n",
       "\n",
       "    .dataframe tbody tr th {\n",
       "        vertical-align: top;\n",
       "    }\n",
       "\n",
       "    .dataframe thead th {\n",
       "        text-align: right;\n",
       "    }\n",
       "</style>\n",
       "<table border=\"1\" class=\"dataframe\">\n",
       "  <thead>\n",
       "    <tr style=\"text-align: right;\">\n",
       "      <th></th>\n",
       "      <th>bds</th>\n",
       "      <th>ba</th>\n",
       "      <th>sqft</th>\n",
       "      <th>house-type</th>\n",
       "      <th>link</th>\n",
       "      <th>address</th>\n",
       "    </tr>\n",
       "  </thead>\n",
       "  <tbody>\n",
       "    <tr>\n",
       "      <th>0</th>\n",
       "      <td>3</td>\n",
       "      <td>3</td>\n",
       "      <td>1992</td>\n",
       "      <td>Coming soon</td>\n",
       "      <td>https://www.zillow.com/homedetails/8619-Via-Ma...</td>\n",
       "      <td>8619 Via Mallorca UNIT C, La Jolla, CA 92037</td>\n",
       "    </tr>\n",
       "    <tr>\n",
       "      <th>1</th>\n",
       "      <td>4</td>\n",
       "      <td>3</td>\n",
       "      <td>2206</td>\n",
       "      <td>Coming soon</td>\n",
       "      <td>https://www.zillow.com/homedetails/8845-Robin-...</td>\n",
       "      <td>8845 Robin Hood Ln, La Jolla, CA 92037</td>\n",
       "    </tr>\n",
       "    <tr>\n",
       "      <th>2</th>\n",
       "      <td>5</td>\n",
       "      <td>3</td>\n",
       "      <td>2772</td>\n",
       "      <td>House for sale</td>\n",
       "      <td>https://www.zillow.com/homedetails/8269-Sugarm...</td>\n",
       "      <td>8269 Sugarman Dr, La Jolla, CA 92037</td>\n",
       "    </tr>\n",
       "    <tr>\n",
       "      <th>3</th>\n",
       "      <td>3</td>\n",
       "      <td>3</td>\n",
       "      <td>1799</td>\n",
       "      <td>House for sale</td>\n",
       "      <td>https://www.zillow.com/homedetails/253-Rosemon...</td>\n",
       "      <td>253 Rosemont St, La Jolla, CA 92037</td>\n",
       "    </tr>\n",
       "    <tr>\n",
       "      <th>4</th>\n",
       "      <td>4</td>\n",
       "      <td>3</td>\n",
       "      <td>1861</td>\n",
       "      <td>Multi-family home for sale</td>\n",
       "      <td>https://www.zillow.com/homedetails/7256-7258-L...</td>\n",
       "      <td>7256-7258 La Jolla Blvd, La Jolla, CA 92037</td>\n",
       "    </tr>\n",
       "    <tr>\n",
       "      <th>5</th>\n",
       "      <td>3</td>\n",
       "      <td>3</td>\n",
       "      <td>2284</td>\n",
       "      <td>House for sale</td>\n",
       "      <td>https://www.zillow.com/homedetails/5646-Chelse...</td>\n",
       "      <td>5646 Chelsea Ave, La Jolla, CA 92037</td>\n",
       "    </tr>\n",
       "    <tr>\n",
       "      <th>6</th>\n",
       "      <td>2</td>\n",
       "      <td>2</td>\n",
       "      <td>992</td>\n",
       "      <td>Condo for sale</td>\n",
       "      <td>https://www.zillow.com/homedetails/457-Coast-B...</td>\n",
       "      <td>457 Coast Blvd UNIT 403, La Jolla, CA 92037</td>\n",
       "    </tr>\n",
       "    <tr>\n",
       "      <th>7</th>\n",
       "      <td>1</td>\n",
       "      <td>1</td>\n",
       "      <td>668</td>\n",
       "      <td>Condo for sale</td>\n",
       "      <td>https://www.zillow.com/homedetails/860-Turquoi...</td>\n",
       "      <td>860 Turquoise St UNIT 224, San Diego, CA 92109</td>\n",
       "    </tr>\n",
       "  </tbody>\n",
       "</table>\n",
       "</div>"
      ],
      "text/plain": [
       "  bds  ba   sqft                   house-type  \\\n",
       "0  3   3   1992                   Coming soon   \n",
       "1  4   3   2206                   Coming soon   \n",
       "2  5   3   2772                House for sale   \n",
       "3  3   3   1799                House for sale   \n",
       "4  4   3   1861    Multi-family home for sale   \n",
       "5  3   3   2284                House for sale   \n",
       "6  2   2    992                Condo for sale   \n",
       "7  1   1    668                Condo for sale   \n",
       "\n",
       "                                                link  \\\n",
       "0  https://www.zillow.com/homedetails/8619-Via-Ma...   \n",
       "1  https://www.zillow.com/homedetails/8845-Robin-...   \n",
       "2  https://www.zillow.com/homedetails/8269-Sugarm...   \n",
       "3  https://www.zillow.com/homedetails/253-Rosemon...   \n",
       "4  https://www.zillow.com/homedetails/7256-7258-L...   \n",
       "5  https://www.zillow.com/homedetails/5646-Chelse...   \n",
       "6  https://www.zillow.com/homedetails/457-Coast-B...   \n",
       "7  https://www.zillow.com/homedetails/860-Turquoi...   \n",
       "\n",
       "                                          address  \n",
       "0    8619 Via Mallorca UNIT C, La Jolla, CA 92037  \n",
       "1          8845 Robin Hood Ln, La Jolla, CA 92037  \n",
       "2            8269 Sugarman Dr, La Jolla, CA 92037  \n",
       "3             253 Rosemont St, La Jolla, CA 92037  \n",
       "4     7256-7258 La Jolla Blvd, La Jolla, CA 92037  \n",
       "5            5646 Chelsea Ave, La Jolla, CA 92037  \n",
       "6     457 Coast Blvd UNIT 403, La Jolla, CA 92037  \n",
       "7  860 Turquoise St UNIT 224, San Diego, CA 92109  "
      ]
     },
     "execution_count": 11,
     "metadata": {},
     "output_type": "execute_result"
    }
   ],
   "source": [
    "df = pd.DataFrame(combined)\n",
    "# remove unit\n",
    "df['bds'] = df['bds'].str.replace('[bd,]', '', regex=True)\n",
    "df['ba'] = df['ba'].str.replace('[ba,]', '', regex=True)\n",
    "df['sqft'] = df['sqft'].str.replace('[sqft,\\-]', '', regex=True)\n",
    "df = df.replace(' ', 0) # should prob leave it as nan\n",
    "df.astype({'bds': 'int32',\n",
    "            'ba': 'int32', \n",
    "            'sqft': 'int32'})\n",
    "df"
   ]
  },
  {
   "cell_type": "code",
   "execution_count": 39,
   "metadata": {},
   "outputs": [],
   "source": [
    "# TODO: Automate multipage scraping \n",
    "# TODO: Increase search range to include more housing \n",
    "# TODO: Filter the rent data"
   ]
  },
  {
   "cell_type": "code",
   "execution_count": 66,
   "metadata": {},
   "outputs": [],
   "source": [
    "# Using Dataox's approach \n",
    "import numpy as np \n",
    "import pandas as pd \n",
    "import re \n",
    "import lxml \n",
    "from lxml.html.soupparser import fromstring\n",
    "import numbers \n",
    "import requests \n",
    "from bs4 import BeautifulSoup as soup"
   ]
  },
  {
   "cell_type": "code",
   "execution_count": 67,
   "metadata": {},
   "outputs": [],
   "source": [
    "request_headers = {\n",
    "    'accept': 'text/html,application/xhtml+xml,application/xml;q=0.9,image/webq,image/apng,*/*;1=0.8', \n",
    "    'accept-encoding': 'gzip, deflate, br',\n",
    "    'accept-language': 'en-US,en;q=0.8',\n",
    "    'upgrade-insecure-requests': '1', \n",
    "    'user-agent': 'Mozilla/5.0 (Macintosh; Intel Mac OS X 10_15_7) AppleWebKit/537.36 (KHTML, like Gecko) Chrome/95.0.4638.69 Safari/537.36 Edg/95.0.1020.53',\n",
    "}\n",
    "\n",
    "url = 'https://www.zillow.com/la-jolla-san-diego-ca/rentals'\n",
    "with requests.Session() as session: \n",
    "    response = session.get(url, headers=request_headers)"
   ]
  },
  {
   "cell_type": "code",
   "execution_count": 71,
   "metadata": {},
   "outputs": [],
   "source": [
    "soup = soup(response.content, 'html.parser')"
   ]
  },
  {
   "cell_type": "code",
   "execution_count": 78,
   "metadata": {},
   "outputs": [
    {
     "name": "stdout",
     "output_type": "stream",
     "text": [
      "[<address class=\"list-card-addr\">Solazzo Apartments Homes | 8506 Villa La Jolla Dr, La Jolla, CA</address>, <address class=\"list-card-addr\">2420 Torrey Pines Rd UNIT B303, La Jolla, CA 92037</address>, <address class=\"list-card-addr\">Ocean House on Prospect Apartment Homes | 400 Prospect St, La Jolla, CA</address>, <address class=\"list-card-addr\">8446 Via Sonoma UNIT 94, La Jolla, CA 92037</address>, <address class=\"list-card-addr\">3161 Morning Way, La Jolla, CA 92037</address>, <address class=\"list-card-addr\">356 Playa Del Norte St, La Jolla, CA 92037</address>, <address class=\"list-card-addr\">1804 Caminito Ascua, La Jolla, CA 92037</address>, <address class=\"list-card-addr\">8529 Villa La Jolla Dr APT E, La Jolla, CA 92037</address>, <address class=\"list-card-addr\">3205 Via Alicante, La Jolla, CA 92037</address>]\n",
      "[<address class=\"list-card-addr\">Solazzo Apartments Homes | 8506 Villa La Jolla Dr, La Jolla, CA</address>, <address class=\"list-card-addr\">2420 Torrey Pines Rd UNIT B303, La Jolla, CA 92037</address>, <address class=\"list-card-addr\">Ocean House on Prospect Apartment Homes | 400 Prospect St, La Jolla, CA</address>, <address class=\"list-card-addr\">8446 Via Sonoma UNIT 94, La Jolla, CA 92037</address>, <address class=\"list-card-addr\">3161 Morning Way, La Jolla, CA 92037</address>, <address class=\"list-card-addr\">356 Playa Del Norte St, La Jolla, CA 92037</address>, <address class=\"list-card-addr\">1804 Caminito Ascua, La Jolla, CA 92037</address>, <address class=\"list-card-addr\">8529 Villa La Jolla Dr APT E, La Jolla, CA 92037</address>, <address class=\"list-card-addr\">3205 Via Alicante, La Jolla, CA 92037</address>]\n"
     ]
    }
   ],
   "source": [
    "addresses = []\n",
    "for i in soup:\n",
    "    address = soup.find_all(class_='list-card-addr')\n",
    "    addresses.append(address)\n",
    "print(addresses[0])\n",
    "print(addresses[1])"
   ]
  },
  {
   "cell_type": "markdown",
   "metadata": {},
   "source": [
    "### Part 2 "
   ]
  },
  {
   "cell_type": "code",
   "execution_count": 17,
   "metadata": {},
   "outputs": [
    {
     "data": {
      "text/plain": [
       "'https://www.zillow.com/homedetails/8966-Cliffridge-Ave-La-Jolla-CA-92037/16835000_zpid/'"
      ]
     },
     "execution_count": 17,
     "metadata": {},
     "output_type": "execute_result"
    }
   ],
   "source": [
    "df.iloc[0]['link']"
   ]
  },
  {
   "cell_type": "code",
   "execution_count": 120,
   "metadata": {},
   "outputs": [
    {
     "name": "stdout",
     "output_type": "stream",
     "text": [
      "200\n"
     ]
    }
   ],
   "source": [
    "# get detail specifications from specific rent pages \n",
    "# user the first link as an example \n",
    "ex_link = df.iloc[0]['link']\n",
    "\n",
    "# get the website \n",
    "page = requests.get(ex_link, headers=header) # don't to run it too much!!!\n",
    "print(page.status_code)\n",
    "\n",
    "# save it for later experiment\n",
    "if os.path.exists('page_example.txt'): os.remove('page_example.txt')\n",
    "with open('page_example.txt', 'w') as file:\n",
    "    file.write(page.text)"
   ]
  },
  {
   "cell_type": "code",
   "execution_count": 5,
   "metadata": {},
   "outputs": [],
   "source": [
    "page_txt = parse_file('page_example.txt')"
   ]
  },
  {
   "cell_type": "markdown",
   "metadata": {},
   "source": [
    "The page elements has dynamic class ids which makes it harder to parse"
   ]
  },
  {
   "cell_type": "code",
   "execution_count": 38,
   "metadata": {},
   "outputs": [],
   "source": [
    "import re\n",
    "\n",
    "text = page_txt.text\n",
    "re.match(r'(Overview)+', text)"
   ]
  },
  {
   "cell_type": "markdown",
   "metadata": {},
   "source": [
    "### Use Selenium to simulate scrolling"
   ]
  },
  {
   "cell_type": "code",
   "execution_count": 1,
   "metadata": {},
   "outputs": [],
   "source": [
    "from msedge.selenium_tools import Edge\n",
    "from msedge.selenium_tools import EdgeOptions\n",
    "from selenium.common.exceptions import NoSuchElementException\n",
    "import time\n",
    "import csv\n",
    "import requests\n",
    "from bs4 import BeautifulSoup as soup"
   ]
  },
  {
   "cell_type": "code",
   "execution_count": 2,
   "outputs": [],
   "source": [
    "# initializes the webscraper\n",
    "options = EdgeOptions()\n",
    "options.use_chromium = True\n",
    "options.add_argument('--ignore-certificate-errors')\n",
    "options.add_argument('--incognito')\n",
    "# options.add_argument('--headless')\n",
    "driver = Edge(options = options)"
   ],
   "metadata": {
    "collapsed": false,
    "pycharm": {
     "name": "#%%\n"
    }
   }
  },
  {
   "cell_type": "code",
   "execution_count": 3,
   "outputs": [],
   "source": [
    "# open target page\n",
    "url = \"https://www.zillow.com/la-jolla-san-diego-ca/rentals\"\n",
    "header = {'user-agent': 'Mozilla/5.0 (Macintosh; Intel Mac OS X 10_15_7) AppleWebKit/537.36 (KHTML, like Gecko) Chrome/95.0.4638.69 Safari/537.36 Edg/95.0.1020.53', 'refer': url}\n",
    "driver.get(url)\n",
    "time.sleep(3)"
   ],
   "metadata": {
    "collapsed": false,
    "pycharm": {
     "name": "#%%\n"
    }
   }
  },
  {
   "cell_type": "code",
   "execution_count": 14,
   "outputs": [],
   "source": [
    "# incrementally scroll to the bottom of the page then extract the page html\n",
    "driver.execute_script(\"document.getElementById('search-page-list-container').scrollTo(0, 600)\") # 600 per 3 rows of listings "
   ],
   "metadata": {
    "collapsed": false,
    "pycharm": {
     "name": "#%%\n"
    }
   }
  },
  {
   "cell_type": "code",
   "execution_count": 15,
   "outputs": [],
   "source": [
    "driver.execute_script(\"document.getElementById('search-page-list-container').scrollTo(0, 1200)\")"
   ],
   "metadata": {
    "collapsed": false,
    "pycharm": {
     "name": "#%%\n"
    }
   }
  },
  {
   "cell_type": "code",
   "execution_count": 16,
   "outputs": [],
   "source": [
    "driver.execute_script(\"document.getElementById('search-page-list-container').scrollTo(0, 1800)\")"
   ],
   "metadata": {
    "collapsed": false,
    "pycharm": {
     "name": "#%%\n"
    }
   }
  },
  {
   "cell_type": "code",
   "execution_count": null,
   "outputs": [],
   "source": [
    "# parse source elements with bs4"
   ],
   "metadata": {
    "collapsed": false,
    "pycharm": {
     "name": "#%%\n"
    }
   }
  }
 ],
 "metadata": {
  "interpreter": {
   "hash": "31f2aee4e71d21fbe5cf8b01ff0e069b9275f58929596ceb00d14d90e3e16cd6"
  },
  "kernelspec": {
   "display_name": "Python 3.8.9 64-bit",
   "language": "python",
   "name": "python3"
  },
  "language_info": {
   "codemirror_mode": {
    "name": "ipython",
    "version": 3
   },
   "file_extension": ".py",
   "mimetype": "text/x-python",
   "name": "python",
   "nbconvert_exporter": "python",
   "pygments_lexer": "ipython3",
   "version": "3.8.12"
  },
  "orig_nbformat": 4
 },
 "nbformat": 4,
 "nbformat_minor": 2
}