{
 "cells": [
  {
   "cell_type": "code",
   "execution_count": 1,
   "metadata": {
    "collapsed": true
   },
   "outputs": [],
   "source": [
    "from bs4 import BeautifulSoup"
   ]
  },
  {
   "cell_type": "code",
   "execution_count": 2,
   "metadata": {
    "collapsed": false,
    "pycharm": {
     "name": "#%%\n"
    }
   },
   "outputs": [],
   "source": [
    "# common util function\n",
    "import re\n",
    "def prettify_text(data):\n",
    "    \"\"\"Given a string, replace unicode chars and make it prettier\"\"\"\n",
    "\n",
    "    # format it nicely: replace multiple spaces with just one\n",
    "    data = re.sub(' +', ' ', data)\n",
    "    # format it nicely: replace multiple new lines with just one\n",
    "    data = re.sub('(\\r?\\n *)+', '\\n', data)\n",
    "    # format it nicely: replace bullet with *\n",
    "    data = re.sub(u'\\u2022', '* ', data)\n",
    "    # format it nicely: replace registered symbol with (R)\n",
    "    data = re.sub(u'\\xae', ' (R) ', data)\n",
    "    # format it nicely: remove trailing spaces\n",
    "    data = data.strip('\\'')\n",
    "    # format it nicely: encode it, removing special symbols\n",
    "    # data = data.encode('utf8', 'ignore') # Why is everything encoded???\n",
    "\n",
    "    return str(data)"
   ]
  },
  {
   "cell_type": "code",
   "execution_count": 142,
   "metadata": {
    "collapsed": false,
    "pycharm": {
     "name": "#%%\n"
    }
   },
   "outputs": [],
   "source": [
    "import requests\n",
    "test_url = \"https://www.apartments.com/la-jolla-international-gardens-san-diego-ca/jfps2s6/\" # From page 2\n",
    "\n",
    "headers = {'User-Agent': 'Mozilla/5.0 (Macintosh; Intel Mac OS X 10_11_6) AppleWebKit/537.36 (KHTML, like Gecko) Chrome/61.0.3163.100 Safari/537.36'}\n",
    "page = requests.get(test_url, headers=headers)"
   ]
  },
  {
   "cell_type": "code",
   "execution_count": 143,
   "metadata": {
    "collapsed": false,
    "pycharm": {
     "name": "#%%\n"
    }
   },
   "outputs": [],
   "source": [
    "soup = BeautifulSoup(page.content, 'html.parser')\n",
    "soupp = soup.prettify()"
   ]
  },
  {
   "cell_type": "code",
   "execution_count": 144,
   "metadata": {
    "collapsed": false,
    "pycharm": {
     "name": "#%%\n"
    }
   },
   "outputs": [],
   "source": [
    "soup = soup.find('div', class_='sectionContainer')"
   ]
  },
  {
   "cell_type": "code",
   "execution_count": 148,
   "metadata": {},
   "outputs": [],
   "source": [
    "def extract_availability(target):\n",
    "    \"\"\"Return the processed text of the listings\"\"\"\n",
    "    content = []\n",
    "\n",
    "    content.append(target.find('span', {'class': 'modelName'}).text)\n",
    "    content.append(target.find('span', {'class': \"rentLabel\"}).text)\n",
    "    content.append(target.find('span', {'class': \"detailsTextWrapper\"}).text)\n",
    "    content.append(target.find('span', {'class': \"detailsTextWrapper leaseDepositLabel\"}).text)\n",
    "\n",
    "    return str(content)\n",
    "\n",
    "def get_availability(soup, fields):\n",
    "    \"\"\"Get all the listings from availability section\"\"\"\n",
    "    fields[\"availability\"] = []\n",
    "\n",
    "    if soup is None: return\n",
    "\n",
    "    temp_obj = soup.find('section', {'id': 'availabilitySection'}).find('div', {'id': 'pricingView'})\n",
    "    obj = temp_obj.find('div', {'class': \"tab-section active\"})\n",
    "\n",
    "\n",
    "\n",
    "    if obj is not None:\n",
    "        for listing in soup.findAll('div', {'class': \"row\"}):\n",
    "            target = listing.find('div', {'class': 'column1'})\n",
    "            fields['availability'].append(target.get_text(strip='\\n', separator=', '))\n"
   ]
  },
  {
   "cell_type": "code",
   "execution_count": 149,
   "metadata": {},
   "outputs": [],
   "source": [
    "field = {}\n",
    "get_availability(soup, field)"
   ]
  },
  {
   "cell_type": "code",
   "execution_count": 150,
   "metadata": {},
   "outputs": [
    {
     "data": {
      "text/plain": [
       "{'availability': ['Florentine, $2,395 – $2,545, 1 bed, ,, 1 bath, ,, 652 sq ft, 6 – 12 Month Lease, ,, Not Available, Tour This Floor Plan, View Florentine, Photos, View Florentine, Floor Plan, View Florentine, Virtual Tours',\n",
       "  'Babilonia, $3,065 – $3,205, 2 beds, ,, 2 baths, ,, 1,004 sq ft, 6 – 12 Month Lease, ,, Not Available, Tour This Floor Plan, View Babilonia, Photos, View Babilonia, Floor Plan, View Babilonia, Virtual Tours',\n",
       "  'Versailles, $3,260 – $3,455, 2 beds, ,, 2 baths, ,, 1,215 sq ft, 6 – 12 Month Lease, ,, Not Available, Tour This Floor Plan, View Versailles, Photos, View Versailles, Floor Plan, View Versailles, Virtual Tours',\n",
       "  'Florentine, $2,395 – $2,545, 1 bed, ,, 1 bath, ,, 652 sq ft, 6 – 12 Month Lease, ,, Not Available, Tour This Floor Plan, View Florentine, Photos, View Florentine, Floor Plan, View Florentine, Virtual Tours',\n",
       "  'Babilonia, $3,065 – $3,205, 2 beds, ,, 2 baths, ,, 1,004 sq ft, 6 – 12 Month Lease, ,, Not Available, Tour This Floor Plan, View Babilonia, Photos, View Babilonia, Floor Plan, View Babilonia, Virtual Tours',\n",
       "  'Versailles, $3,260 – $3,455, 2 beds, ,, 2 baths, ,, 1,215 sq ft, 6 – 12 Month Lease, ,, Not Available, Tour This Floor Plan, View Versailles, Photos, View Versailles, Floor Plan, View Versailles, Virtual Tours']}"
      ]
     },
     "execution_count": 150,
     "metadata": {},
     "output_type": "execute_result"
    }
   ],
   "source": [
    "field"
   ]
  },
  {
   "cell_type": "code",
   "execution_count": 60,
   "metadata": {},
   "outputs": [],
   "source": [
    "def get_pet_policy(soup, fields):\n",
    "    \"\"\"Given a beautifulSoup parsed page, extract the pet policy details\"\"\"\n",
    "    if soup is None:\n",
    "        fields['petPolicy'] = ''\n",
    "        return\n",
    "\n",
    "    # the pet policy\n",
    "    data = soup.find('section', {'id': 'feesSection'}).find('div', {'class': 'feespolicies'})\n",
    "    \n",
    "    \n",
    "    if data is None:\n",
    "        data = ''\n",
    "    else:\n",
    "        data = data.get_text(strip=True, separator=', ')\n",
    "        data = prettify_text(data)\n",
    "\n",
    "    # format it nicely: remove the trailing whitespace\n",
    "    fields['petPolicy'] = data"
   ]
  },
  {
   "cell_type": "code",
   "execution_count": 61,
   "metadata": {},
   "outputs": [],
   "source": [
    "fields = {}\n",
    "\n",
    "get_pet_policy(soup, fields)"
   ]
  },
  {
   "cell_type": "code",
   "execution_count": 62,
   "metadata": {},
   "outputs": [
    {
     "data": {
      "text/plain": [
       "{'petPolicy': 'Cats Allowed, Restrictions:, $250 deposit for one cat. $400 for two cats. Maximum of two cats., Pet Limit, 2, Pet interview, Not required, Spayed/Neutered, Required, Declawed, Not required, Pet deposit, $250'}"
      ]
     },
     "execution_count": 62,
     "metadata": {},
     "output_type": "execute_result"
    }
   ],
   "source": [
    "fields"
   ]
  },
  {
   "cell_type": "code",
   "execution_count": 50,
   "metadata": {},
   "outputs": [
    {
     "data": {
      "text/plain": [
       "'\\n\\n\\n\\n\\nCats Allowed\\n\\n\\n\\n\\nRestrictions: $250 deposit for one cat. $400 for two cats. Maximum of two cats.\\r\\n                                    \\n\\n\\n\\nPet Limit\\n2\\n\\n\\n\\n\\nPet interview\\nNot required\\n\\n\\n\\n\\nSpayed/Neutered\\nRequired\\n\\n\\n\\n\\nDeclawed\\nNot required\\n\\n\\n\\n\\nPet deposit\\n$250\\n\\n\\n\\n\\n\\n'"
      ]
     },
     "execution_count": 50,
     "metadata": {},
     "output_type": "execute_result"
    }
   ],
   "source": [
    "soup.find('section', {'id': 'feesSection'})\\\n",
    "    .find('div', {'class': 'feespolicies'}).text"
   ]
  },
  {
   "cell_type": "code",
   "execution_count": 168,
   "metadata": {},
   "outputs": [],
   "source": [
    "def get_parking_info(soup, fields):\n",
    "    \"\"\"Given a beautifulSoup parsed page, extract the parking details\"\"\"\n",
    "\n",
    "    fields['parking'] = ''\n",
    "\n",
    "    if soup is None: return\n",
    "\n",
    "    obj = soup.find('div', {\"id\": \"profileV2FeesWrapper\"}).findAll('div', {\"class\": \"feespolicies\"})\n",
    "\n",
    "    if obj is not None:\n",
    "        for i in obj:\n",
    "            if i.find('h4', {'class': \"header-column\"}).text == \"Parking\":\n",
    "                data = prettify_text(i.parent.parent.findNext('div', {'class':'component-body'}).get_text(strip='\\n', separator=', '))\n",
    "        # format it nicely: remove trailing spaces\n",
    "        if data is None:\n",
    "            fields['parking'] = \"\"\n",
    "        else:\n",
    "            fields['parking'] = data\n"
   ]
  },
  {
   "cell_type": "code",
   "execution_count": 169,
   "metadata": {},
   "outputs": [],
   "source": [
    "fields = {}\n",
    "get_parking_info(soup, fields)"
   ]
  },
  {
   "cell_type": "code",
   "execution_count": 170,
   "metadata": {},
   "outputs": [
    {
     "data": {
      "text/plain": [
       "{'parking': 'Restrictions:, $250 deposit for 1 cat. $400 deposit for 2 cats.No monthly Pet rent., $250 deposit for 1 cat. $400 deposit for 2 cats., Pet Limit, 2, Pet interview, Not required, Spayed/Neutered, Not required, Declawed, Not required, Pet deposit, $250'}"
      ]
     },
     "execution_count": 170,
     "metadata": {},
     "output_type": "execute_result"
    }
   ],
   "source": [
    "fields"
   ]
  },
  {
   "cell_type": "code",
   "execution_count": 84,
   "metadata": {},
   "outputs": [
    {
     "data": {
      "text/plain": [
       "'Parking, Garage, Assigned Parking, 1 spot for 1 Bedrooms &\\n2 spots for 2 Bedroom.\\nGuest parking on property.'"
      ]
     },
     "execution_count": 84,
     "metadata": {},
     "output_type": "execute_result"
    }
   ],
   "source": [
    "soup.find('div', {\"id\": \"profileV2FeesWrapper\"}).findAll('div', {\"class\": \"feespolicies\"})[1].get_text(strip='\\n', separator=', ')\n"
   ]
  },
  {
   "cell_type": "code",
   "execution_count": 99,
   "metadata": {},
   "outputs": [],
   "source": []
  },
  {
   "cell_type": "code",
   "execution_count": 132,
   "metadata": {},
   "outputs": [],
   "source": [
    "def get_transport_education(soup, fields):\n",
    "    \"\"\"Given a beautifulSoup parsed page, extract the transportation and education details\"\"\"\n",
    "\n",
    "    fields['transportation'] = ''\n",
    "    fields['education'] = ''\n",
    "\n",
    "    if soup is None: return\n",
    "\n",
    "    education = soup.find('div', {\"id\": \"educationContainer\"}).find('div', {\"class\": \"spec\"}).get_text(strip='\\n', separator=', ')\n",
    "\n",
    "    transport = soup.find('section', {\"id\": \"transportationSection\"}).find('div', {\"class\": \"spec\"}).get_text(strip='\\n', separator=', ')\n",
    "\n",
    "    if education is not None:\n",
    "        ed_data = prettify_text(education)\n",
    "\n",
    "    if transport is not None:\n",
    "        tran_data = prettify_text(transport)\n",
    "\n",
    "        # format it nicely: remove trailing spaces\n",
    "        fields['transportation'] = tran_data\n",
    "        fields['education'] = ed_data"
   ]
  },
  {
   "cell_type": "code",
   "execution_count": 133,
   "metadata": {},
   "outputs": [
    {
     "name": "stdout",
     "output_type": "stream",
     "text": [
      "Colleges, Walk, Distance, Colleges, Walk, Distance, University of California, San Diego, 31 min, 1.6 mi, University of California, San Diego, 47 min, 2.4 mi, San Diego Mesa College, 117 min, 6.0 mi\n"
     ]
    }
   ],
   "source": [
    "fields = {}\n",
    "get_transport_education(soup, fields)"
   ]
  },
  {
   "cell_type": "code",
   "execution_count": 134,
   "metadata": {},
   "outputs": [
    {
     "data": {
      "text/plain": [
       "{'transportation': 'Transit / Subway, Walk, Distance, Transit / Subway, Walk, Distance, Morena/Linda Vista, 176 min, 9.1 mi, Fashion Valley Transit Center, 179 min, 9.2 mi, Hazard Center, 181 min, 9.3 mi, Old Town Transit Center, 188 min, 9.7 mi, Mission Valley Center, 191 min, 9.9 mi, Commuter Rail, Walk, Distance, Commuter Rail, Walk, Distance, Sorrento Valley, 66 min, 3.4 mi, Old Town Transit Center, 190 min, 9.8 mi, Solana Beach, 214 min, 11.1 mi, San Diego (Santa Fe Depot), 254 min, 13.1 mi, Encinitas, 291 min, 15.0 mi, Airports, Walk, Distance, Airports, Walk, Distance, San Diego International, 259 min, 13.4 mi, McClellan-Palomar, 446 min, 23.0 mi',\n",
       " 'education': 'Colleges, Walk, Distance, Colleges, Walk, Distance, University of California, San Diego, 31 min, 1.6 mi, University of California, San Diego, 47 min, 2.4 mi, San Diego Mesa College, 117 min, 6.0 mi'}"
      ]
     },
     "execution_count": 134,
     "metadata": {},
     "output_type": "execute_result"
    }
   ],
   "source": [
    "fields"
   ]
  },
  {
   "cell_type": "code",
   "execution_count": null,
   "metadata": {},
   "outputs": [],
   "source": []
  }
 ],
 "metadata": {
  "kernelspec": {
   "display_name": "Python 3",
   "language": "python",
   "name": "python3"
  },
  "language_info": {
   "codemirror_mode": {
    "name": "ipython",
    "version": 3
   },
   "file_extension": ".py",
   "mimetype": "text/x-python",
   "name": "python",
   "nbconvert_exporter": "python",
   "pygments_lexer": "ipython3",
   "version": "3.8.12"
  }
 },
 "nbformat": 4,
 "nbformat_minor": 0
}
